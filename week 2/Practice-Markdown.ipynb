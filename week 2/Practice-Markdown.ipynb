{
 "cells": [
  {
   "cell_type": "markdown",
   "metadata": {},
   "source": [
    "## Practice Markdown"
   ]
  },
  {
   "cell_type": "markdown",
   "metadata": {},
   "source": [
    "This notebook lets you experiment with producing repeatable technical documentation.  Use this notebook to do the following actions:\n",
    "\n",
    "* Create a code cell and print a Python Hello World statement:  `print(\"hello world\")`\n",
    "* Create a Markdown Cell and add a Title using `#` and then a statement using plain text.  You can looks at the source code for this cell to get an idea of how to use Markdown.\n",
    "* Take some ideas from the [Master Markdown Github Guide](https://guides.github.com/features/mastering-markdown/) and implement them here.\n",
    "* Download this notebook as a `.ipynb` file and check into a Github Project.  You can [see an example here](https://github.com/noahgift/duke-coursera-ccf-lab1/blob/main/Practice-Markdown.ipynb).\n",
    "* Open your notebook in Google Colab and save it into the same Github Project.  You can [see an example here](https://github.com/noahgift/duke-coursera-ccf-lab1/blob/main/Practice_Markdown_with_colab.ipynb).\n"
   ]
  },
  {
   "cell_type": "code",
   "execution_count": 1,
   "metadata": {},
   "outputs": [
    {
     "name": "stdout",
     "output_type": "stream",
     "text": [
      "hello world\n"
     ]
    }
   ],
   "source": [
    "print(\"hello world\")"
   ]
  },
  {
   "cell_type": "markdown",
   "metadata": {},
   "source": [
    "# Statistic description of covid data\n",
    "\n",
    "**Objetive:**\n",
    "\n",
    "To extract the main statistics of covid data extracted from google [link](https://health.google.com/covid-19/open-data/raw-data)"
   ]
  },
  {
   "cell_type": "code",
   "execution_count": 3,
   "metadata": {},
   "outputs": [
    {
     "data": {
      "text/html": [
       "<div>\n",
       "<style scoped>\n",
       "    .dataframe tbody tr th:only-of-type {\n",
       "        vertical-align: middle;\n",
       "    }\n",
       "\n",
       "    .dataframe tbody tr th {\n",
       "        vertical-align: top;\n",
       "    }\n",
       "\n",
       "    .dataframe thead th {\n",
       "        text-align: right;\n",
       "    }\n",
       "</style>\n",
       "<table border=\"1\" class=\"dataframe\">\n",
       "  <thead>\n",
       "    <tr style=\"text-align: right;\">\n",
       "      <th></th>\n",
       "      <th>new_confirmed</th>\n",
       "      <th>new_deceased</th>\n",
       "      <th>new_recovered</th>\n",
       "      <th>new_tested</th>\n",
       "      <th>cumulative_confirmed</th>\n",
       "      <th>cumulative_deceased</th>\n",
       "      <th>cumulative_recovered</th>\n",
       "      <th>cumulative_tested</th>\n",
       "    </tr>\n",
       "  </thead>\n",
       "  <tbody>\n",
       "    <tr>\n",
       "      <th>count</th>\n",
       "      <td>1.247580e+07</td>\n",
       "      <td>1.166714e+07</td>\n",
       "      <td>3.980462e+06</td>\n",
       "      <td>3.194489e+06</td>\n",
       "      <td>1.232704e+07</td>\n",
       "      <td>1.147482e+07</td>\n",
       "      <td>3.991157e+06</td>\n",
       "      <td>3.012920e+06</td>\n",
       "    </tr>\n",
       "    <tr>\n",
       "      <th>mean</th>\n",
       "      <td>1.111905e+02</td>\n",
       "      <td>1.274817e+00</td>\n",
       "      <td>2.104549e+02</td>\n",
       "      <td>2.509508e+03</td>\n",
       "      <td>3.539969e+04</td>\n",
       "      <td>5.874310e+02</td>\n",
       "      <td>6.655680e+04</td>\n",
       "      <td>9.057159e+05</td>\n",
       "    </tr>\n",
       "    <tr>\n",
       "      <th>std</th>\n",
       "      <td>1.165983e+04</td>\n",
       "      <td>8.808127e+01</td>\n",
       "      <td>1.898989e+04</td>\n",
       "      <td>2.955847e+05</td>\n",
       "      <td>6.135014e+05</td>\n",
       "      <td>9.228857e+03</td>\n",
       "      <td>1.572899e+06</td>\n",
       "      <td>1.518347e+07</td>\n",
       "    </tr>\n",
       "    <tr>\n",
       "      <th>min</th>\n",
       "      <td>-5.045418e+06</td>\n",
       "      <td>-6.381100e+04</td>\n",
       "      <td>-1.001683e+07</td>\n",
       "      <td>-3.541552e+08</td>\n",
       "      <td>0.000000e+00</td>\n",
       "      <td>0.000000e+00</td>\n",
       "      <td>-3.000000e+00</td>\n",
       "      <td>0.000000e+00</td>\n",
       "    </tr>\n",
       "    <tr>\n",
       "      <th>25%</th>\n",
       "      <td>0.000000e+00</td>\n",
       "      <td>0.000000e+00</td>\n",
       "      <td>0.000000e+00</td>\n",
       "      <td>1.000000e+00</td>\n",
       "      <td>2.020000e+02</td>\n",
       "      <td>3.000000e+00</td>\n",
       "      <td>0.000000e+00</td>\n",
       "      <td>3.460000e+02</td>\n",
       "    </tr>\n",
       "    <tr>\n",
       "      <th>50%</th>\n",
       "      <td>1.000000e+00</td>\n",
       "      <td>0.000000e+00</td>\n",
       "      <td>0.000000e+00</td>\n",
       "      <td>7.000000e+00</td>\n",
       "      <td>1.034000e+03</td>\n",
       "      <td>1.800000e+01</td>\n",
       "      <td>7.000000e+00</td>\n",
       "      <td>1.890000e+03</td>\n",
       "    </tr>\n",
       "    <tr>\n",
       "      <th>75%</th>\n",
       "      <td>1.100000e+01</td>\n",
       "      <td>0.000000e+00</td>\n",
       "      <td>5.000000e+00</td>\n",
       "      <td>5.200000e+01</td>\n",
       "      <td>5.002000e+03</td>\n",
       "      <td>8.100000e+01</td>\n",
       "      <td>3.099000e+03</td>\n",
       "      <td>1.508900e+04</td>\n",
       "    </tr>\n",
       "    <tr>\n",
       "      <th>max</th>\n",
       "      <td>5.047094e+06</td>\n",
       "      <td>6.383000e+04</td>\n",
       "      <td>9.967355e+06</td>\n",
       "      <td>3.541856e+08</td>\n",
       "      <td>9.244050e+07</td>\n",
       "      <td>1.005195e+06</td>\n",
       "      <td>2.345841e+08</td>\n",
       "      <td>9.214000e+09</td>\n",
       "    </tr>\n",
       "  </tbody>\n",
       "</table>\n",
       "</div>"
      ],
      "text/plain": [
       "       new_confirmed  new_deceased  new_recovered    new_tested  \\\n",
       "count   1.247580e+07  1.166714e+07   3.980462e+06  3.194489e+06   \n",
       "mean    1.111905e+02  1.274817e+00   2.104549e+02  2.509508e+03   \n",
       "std     1.165983e+04  8.808127e+01   1.898989e+04  2.955847e+05   \n",
       "min    -5.045418e+06 -6.381100e+04  -1.001683e+07 -3.541552e+08   \n",
       "25%     0.000000e+00  0.000000e+00   0.000000e+00  1.000000e+00   \n",
       "50%     1.000000e+00  0.000000e+00   0.000000e+00  7.000000e+00   \n",
       "75%     1.100000e+01  0.000000e+00   5.000000e+00  5.200000e+01   \n",
       "max     5.047094e+06  6.383000e+04   9.967355e+06  3.541856e+08   \n",
       "\n",
       "       cumulative_confirmed  cumulative_deceased  cumulative_recovered  \\\n",
       "count          1.232704e+07         1.147482e+07          3.991157e+06   \n",
       "mean           3.539969e+04         5.874310e+02          6.655680e+04   \n",
       "std            6.135014e+05         9.228857e+03          1.572899e+06   \n",
       "min            0.000000e+00         0.000000e+00         -3.000000e+00   \n",
       "25%            2.020000e+02         3.000000e+00          0.000000e+00   \n",
       "50%            1.034000e+03         1.800000e+01          7.000000e+00   \n",
       "75%            5.002000e+03         8.100000e+01          3.099000e+03   \n",
       "max            9.244050e+07         1.005195e+06          2.345841e+08   \n",
       "\n",
       "       cumulative_tested  \n",
       "count       3.012920e+06  \n",
       "mean        9.057159e+05  \n",
       "std         1.518347e+07  \n",
       "min         0.000000e+00  \n",
       "25%         3.460000e+02  \n",
       "50%         1.890000e+03  \n",
       "75%         1.508900e+04  \n",
       "max         9.214000e+09  "
      ]
     },
     "metadata": {},
     "output_type": "display_data"
    }
   ],
   "source": [
    "import pandas\n",
    "data = pandas.read_csv(\"https://storage.googleapis.com/covid19-open-data/v3/epidemiology.csv\")\n",
    "display(data.describe())"
   ]
  }
 ],
 "metadata": {
  "kernelspec": {
   "display_name": "Python 3",
   "language": "python",
   "name": "python3"
  },
  "language_info": {
   "codemirror_mode": {
    "name": "ipython",
    "version": 3
   },
   "file_extension": ".py",
   "mimetype": "text/x-python",
   "name": "python",
   "nbconvert_exporter": "python",
   "pygments_lexer": "ipython3",
   "version": "3.7.6"
  }
 },
 "nbformat": 4,
 "nbformat_minor": 4
}
